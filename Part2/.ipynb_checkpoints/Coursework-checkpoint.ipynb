{
 "cells": [
  {
   "cell_type": "markdown",
   "id": "27bdfffc-b87c-42f8-b17f-b95e149a59d5",
   "metadata": {},
   "source": [
    "<h2>\n",
    "    Directory\n",
    "</h2>\n",
    "<ul>\n",
    "    <li>\n",
    "        <a href=\"#horse\">\n",
    "            Horse\n",
    "        </a>\n",
    "    </li>\n",
    "    <li>\n",
    "        <a href=\"#race\">\n",
    "            Race\n",
    "        </a>\n",
    "    </li>\n",
    "    <li>\n",
    "        <a href=\"#fileHandler\">\n",
    "            FileHandler\n",
    "        </a>\n",
    "    </li>\n",
    "</ul>"
   ]
  },
  {
   "cell_type": "markdown",
   "id": "1519e3ca-d4fb-4a2e-8c66-6e949343da0a",
   "metadata": {},
   "source": [
    "<h3>\n",
    "<a id=\"horse\">\n",
    "    Horse class\n",
    "</a>\n",
    "</h3>"
   ]
  },
  {
   "cell_type": "code",
   "execution_count": 4,
   "id": "6923cf0c-5923-4ebd-a078-ee847fd42654",
   "metadata": {},
   "outputs": [],
   "source": [
    "\n",
    "/**\n",
    " * Write a description of class Horse here.\n",
    " * \n",
    " * @author Marlon Pires\n",
    " * @version 0.3\n",
    " */\n",
    "public class Horse\n",
    "{\n",
    "    //Fields of class Horse\n",
    "    private static int ConstructorFields = 3;\n",
    "    private String horseName;\n",
    "    private char horseSymbol;\n",
    "    private double horseConfidence;\n",
    "    private int distanceTravelled = 0;\n",
    "    private boolean fallen = false;\n",
    "      \n",
    "    //Constructor of class Horse\n",
    "    /**\n",
    "     * Constructor for objects of class Horse\n",
    "     */\n",
    "    public Horse(char horseSymbol, String horseName, double horseConfidence)\n",
    "    {\n",
    "        this.horseSymbol = horseSymbol;\n",
    "        this.horseName = horseName;\n",
    "        confidenceInBounds(horseConfidence);\n",
    "        this.horseConfidence = horseConfidence;\n",
    "    }\n",
    "\n",
    "    public Horse(String[] horseArr) { //Constructor for comma-separarted string literal\n",
    "        double confidence;\n",
    "        \n",
    "        if (horseArr.length != ConstructorFields) { //Checks the number of fields available\n",
    "            throw new IllegalArgumentException(\"Wrong number of fields - only \" + ConstructorFields + \" can be accepted\");\n",
    "        }\n",
    "\n",
    "        if (horseArr[0].length() != 1) {\n",
    "            throw new IllegalArgumentException(\"Horse character field should be a single character!\");\n",
    "        }\n",
    "\n",
    "        // No checks for second element as it is a name, which is a string\n",
    "        \n",
    "        try {\n",
    "            confidence = Double.parseDouble(horseArr[2]);\n",
    "        }\n",
    "        catch (NumberFormatException e) {\n",
    "            throw new NumberFormatException(\"The confidence field must be a boolean!\");\n",
    "        }\n",
    "\n",
    "        horseSymbol = horseArr[0].charAt(0);\n",
    "        horseName = horseArr[1];\n",
    "        double tempHorseConfidence = Double.parseDouble(horseArr[2]);\n",
    "        confidenceInBounds(tempHorseConfidence);\n",
    "        horseConfidence = tempHorseConfidence;\n",
    "    }\n",
    "\n",
    "    public Horse(String s) {\n",
    "        String[] horseArr = s.split(\",\");\n",
    "        Horse tempHorse = new Horse(horseArr);\n",
    "        horseName = tempHorse.getName();\n",
    "        horseSymbol = tempHorse.getSymbol();\n",
    "        horseConfidence = tempHorse.getConfidence();\n",
    "    }\n",
    "\n",
    "    //toString method for file handling\n",
    "    @Override\n",
    "    public String toString() {\n",
    "        return horseSymbol + \",\" + horseName + \",\" + horseConfidence;\n",
    "    }\n",
    "    \n",
    "    //Other methods of class Horse\n",
    "    public void fall()\n",
    "    {\n",
    "        fallen = true;\n",
    "    }\n",
    "    \n",
    "    public double getConfidence()\n",
    "    {\n",
    "        return horseConfidence;\n",
    "    }\n",
    "    \n",
    "    public int getDistanceTravelled()\n",
    "    {\n",
    "        return distanceTravelled;\n",
    "    }\n",
    "    \n",
    "    public String getName()\n",
    "    {\n",
    "        return horseName;\n",
    "    }\n",
    "    \n",
    "    public char getSymbol()\n",
    "    {\n",
    "        return horseSymbol;\n",
    "    }\n",
    "    \n",
    "    public void goBackToStart()\n",
    "    {\n",
    "        distanceTravelled = 0; \n",
    "        fallen = false;\n",
    "    }\n",
    "    \n",
    "    public boolean hasFallen()\n",
    "    {\n",
    "        return fallen;\n",
    "    }\n",
    "\n",
    "    public void moveForward()\n",
    "    {\n",
    "        distanceTravelled++;\n",
    "    }\n",
    "\n",
    "    public void setConfidence(double newConfidence)\n",
    "    {\n",
    "        confidenceInBounds(newConfidence);\n",
    "        horseConfidence = newConfidence;\n",
    "    }\n",
    "    \n",
    "    public void setSymbol(char newSymbol)\n",
    "    {\n",
    "        horseSymbol = newSymbol;\n",
    "    }\n",
    "\n",
    "    private void confidenceInBounds(double testConfidence) {\n",
    "        if (testConfidence > 1 || testConfidence < 0) {\n",
    "            throw new IllegalArgumentException(\"Confidence must be within 0-1!\");\n",
    "        }\n",
    "    }\n",
    "}\n",
    "\n",
    "// ******************************************************************\n",
    "\n",
    "// Used to update all horses and access all horses\n",
    "final class HorseManager {\n",
    "    private static ArrayList<Horse> horses = new ArrayList<>(); \n",
    "\n",
    "    public static void appendHorse(Horse h) {\n",
    "        horses.add(h);\n",
    "    }\n",
    "\n",
    "    public static void setHorse(Horse h, int index) {\n",
    "        horses.set(index, h);\n",
    "    }\n",
    "\n",
    "\n",
    "    public static void clearHorses() {\n",
    "        horses = new ArrayList<>(); \n",
    "    }\n",
    "\n",
    "    public static Horse getHorse(int index) {\n",
    "        return horses.get(index);\n",
    "    }\n",
    "\n",
    "    public static Horse[] getHorses() {\n",
    "        Horse[] horseArr = new Horse[horses.size()];\n",
    "        for (int i = 0; i < horses.size(); i++) {\n",
    "            horseArr[i] = horses.get(i);\n",
    "        }\n",
    "        return horseArr;\n",
    "    }\n",
    "\n",
    "    public static void horsesBackToStart() {\n",
    "        for (Horse h : horses) {\n",
    "            h.goBackToStart();\n",
    "        }\n",
    "    }\n",
    "\n",
    "    public static Horse inputHorse() {\n",
    "        boolean horseMade = false;\n",
    "        Horse newHorse = null;\n",
    "        while (!horseMade) {\n",
    "            String[] horseArr = new String[3];\n",
    "            horseArr[1] = Helper.input(\"Enter the name for the horse\");\n",
    "            horseArr[0] = Helper.input(\"Enter a character for the horse\");\n",
    "            horseArr[2] = Helper.input(\"Enter a decimal value (0-1) for the confidence for the horse\");\n",
    "             \n",
    "            try {\n",
    "                newHorse = new Horse(horseArr);\n",
    "                horseMade = true;\n",
    "            }\n",
    "            catch (IllegalArgumentException e) {\n",
    "                System.out.println(\"Please enter valid values for the horse!\");\n",
    "            }\n",
    "        }\n",
    "        return newHorse;\n",
    "    }\n",
    "}"
   ]
  },
  {
   "cell_type": "markdown",
   "id": "4f20fff9-d2eb-40c0-a19d-8999fa959d6f",
   "metadata": {},
   "source": [
    "<h4> Testing </h4>"
   ]
  },
  {
   "cell_type": "code",
   "execution_count": 115,
   "id": "9f4faaa9-991d-423b-b98d-c25ff02b964b",
   "metadata": {},
   "outputs": [
    {
     "name": "stdout",
     "output_type": "stream",
     "text": [
      "a,test,0.1\n"
     ]
    }
   ],
   "source": [
    "HorseManager.clearHorses();\n",
    "HorseManager.appendHorse(new Horse(\"a,test,0.1\"));\n",
    "System.out.println(Arrays.toString(HorseManager.getHorses()));"
   ]
  },
  {
   "cell_type": "code",
   "execution_count": 5,
   "id": "8a3e5791-ea43-4025-a841-bfa784f4b614",
   "metadata": {},
   "outputs": [],
   "source": [
    "Horse h1 = new Horse('a', \"Horsey\", 0.1);\n",
    "h1.setConfidence(0.9);"
   ]
  },
  {
   "cell_type": "code",
   "execution_count": 6,
   "id": "3631513d-fcf3-4bc6-8787-10e4940142f6",
   "metadata": {},
   "outputs": [
    {
     "ename": "EvalException",
     "evalue": "Confidence must be within 0-1!",
     "output_type": "error",
     "traceback": [
      "\u001b[1m\u001b[31m---------------------------------------------------------------------------\u001b[0m",
      "\u001b[1m\u001b[31mjava.lang.IllegalArgumentException: Confidence must be within 0-1!\u001b[0m",
      "\u001b[1m\u001b[31m\tat Horse.confidenceInBounds(#16:1)\u001b[0m",
      "\u001b[1m\u001b[31m\tat Horse.<init>(#16:1)\u001b[0m",
      "\u001b[1m\u001b[31m\tat .(#19:1)\u001b[0m"
     ]
    }
   ],
   "source": [
    "Horse h2 = new Horse('a', \"Horsey\", 1.1);\n",
    "h2.setConfidence(0.9);"
   ]
  },
  {
   "cell_type": "code",
   "execution_count": 7,
   "id": "f56eb8f3-cf03-4301-bfa7-9c6688aaeee1",
   "metadata": {},
   "outputs": [
    {
     "ename": "EvalException",
     "evalue": "Confidence must be within 0-1!",
     "output_type": "error",
     "traceback": [
      "\u001b[1m\u001b[31m---------------------------------------------------------------------------\u001b[0m",
      "\u001b[1m\u001b[31mjava.lang.IllegalArgumentException: Confidence must be within 0-1!\u001b[0m",
      "\u001b[1m\u001b[31m\tat Horse.confidenceInBounds(#16:1)\u001b[0m",
      "\u001b[1m\u001b[31m\tat Horse.<init>(#16:1)\u001b[0m",
      "\u001b[1m\u001b[31m\tat .(#20:1)\u001b[0m"
     ]
    }
   ],
   "source": [
    "Horse h3 = new Horse('a', \"Horsey\", -0.1);\n",
    "h3.setConfidence(0.9);"
   ]
  },
  {
   "cell_type": "code",
   "execution_count": 8,
   "id": "ccd16341-09d5-4205-a8b4-77d2a4077c06",
   "metadata": {},
   "outputs": [
    {
     "ename": "EvalException",
     "evalue": "Confidence must be within 0-1!",
     "output_type": "error",
     "traceback": [
      "\u001b[1m\u001b[31m---------------------------------------------------------------------------\u001b[0m",
      "\u001b[1m\u001b[31mjava.lang.IllegalArgumentException: Confidence must be within 0-1!\u001b[0m",
      "\u001b[1m\u001b[31m\tat Horse.confidenceInBounds(#16:1)\u001b[0m",
      "\u001b[1m\u001b[31m\tat Horse.setConfidence(#16:1)\u001b[0m",
      "\u001b[1m\u001b[31m\tat .(#22:1)\u001b[0m"
     ]
    }
   ],
   "source": [
    "Horse h4 = new Horse('a', \"Horsey\", 0.5);\n",
    "h4.setConfidence(1.1);"
   ]
  },
  {
   "cell_type": "code",
   "execution_count": 9,
   "id": "8c42cdad-9b37-43da-a617-fbb3705ecae8",
   "metadata": {},
   "outputs": [
    {
     "ename": "EvalException",
     "evalue": "Confidence must be within 0-1!",
     "output_type": "error",
     "traceback": [
      "\u001b[1m\u001b[31m---------------------------------------------------------------------------\u001b[0m",
      "\u001b[1m\u001b[31mjava.lang.IllegalArgumentException: Confidence must be within 0-1!\u001b[0m",
      "\u001b[1m\u001b[31m\tat Horse.confidenceInBounds(#16:1)\u001b[0m",
      "\u001b[1m\u001b[31m\tat Horse.setConfidence(#16:1)\u001b[0m",
      "\u001b[1m\u001b[31m\tat .(#24:1)\u001b[0m"
     ]
    }
   ],
   "source": [
    "Horse h5 = new Horse('a', \"Horsey\", 0);\n",
    "h5.setConfidence(-.1);"
   ]
  },
  {
   "cell_type": "code",
   "execution_count": 70,
   "id": "154229e1-b51e-4578-8631-5e4776f88c1e",
   "metadata": {},
   "outputs": [
    {
     "name": "stdout",
     "output_type": "stream",
     "text": [
      "a,Test,0.1233252\n"
     ]
    }
   ],
   "source": [
    "Horse h6 = new Horse(\"a,Test,0.1233252\");\n",
    "System.out.println(h6);"
   ]
  },
  {
   "cell_type": "code",
   "execution_count": 32,
   "id": "b6a271c7-d44e-4fb1-b28a-e68459d865cd",
   "metadata": {},
   "outputs": [
    {
     "ename": "EvalException",
     "evalue": "Horse character field should be a single character!",
     "output_type": "error",
     "traceback": [
      "\u001b[1m\u001b[31m---------------------------------------------------------------------------\u001b[0m",
      "\u001b[1m\u001b[31mjava.lang.IllegalArgumentException: Horse character field should be a single character!\u001b[0m",
      "\u001b[1m\u001b[31m\tat Horse.<init>(#16:1)\u001b[0m",
      "\u001b[1m\u001b[31m\tat .(#34:1)\u001b[0m"
     ]
    }
   ],
   "source": [
    "Horse h7 = new Horse(\",Test,0.1233252\");\n",
    "System.out.println(h7);"
   ]
  },
  {
   "cell_type": "code",
   "execution_count": 33,
   "id": "7a2fe0be-b7c3-43a5-8c46-f1c2cc102ac5",
   "metadata": {},
   "outputs": [
    {
     "ename": "EvalException",
     "evalue": "Horse character field should be a single character!",
     "output_type": "error",
     "traceback": [
      "\u001b[1m\u001b[31m---------------------------------------------------------------------------\u001b[0m",
      "\u001b[1m\u001b[31mjava.lang.IllegalArgumentException: Horse character field should be a single character!\u001b[0m",
      "\u001b[1m\u001b[31m\tat Horse.<init>(#16:1)\u001b[0m",
      "\u001b[1m\u001b[31m\tat .(#35:1)\u001b[0m"
     ]
    }
   ],
   "source": [
    "Horse h8 = new Horse(\"four,Test,0.1233252\");\n",
    "System.out.println(h8);"
   ]
  },
  {
   "cell_type": "code",
   "execution_count": 34,
   "id": "55ebce03-be59-48b0-8cbc-4f435a541994",
   "metadata": {},
   "outputs": [
    {
     "ename": "EvalException",
     "evalue": "The confidence field must be a boolean!",
     "output_type": "error",
     "traceback": [
      "\u001b[1m\u001b[31m---------------------------------------------------------------------------\u001b[0m",
      "\u001b[1m\u001b[31mjava.lang.NumberFormatException: The confidence field must be a boolean!\u001b[0m",
      "\u001b[1m\u001b[31m\tat Horse.<init>(#16:1)\u001b[0m",
      "\u001b[1m\u001b[31m\tat .(#36:1)\u001b[0m"
     ]
    }
   ],
   "source": [
    "Horse h9 = new Horse(\"a,Test,b\");\n",
    "System.out.println(h9);"
   ]
  },
  {
   "cell_type": "code",
   "execution_count": 37,
   "id": "d332d2f8-a426-48e7-b8ad-3a6a5ae095b4",
   "metadata": {},
   "outputs": [
    {
     "ename": "EvalException",
     "evalue": "Wrong number of fields - only 3 can be accepted",
     "output_type": "error",
     "traceback": [
      "\u001b[1m\u001b[31m---------------------------------------------------------------------------\u001b[0m",
      "\u001b[1m\u001b[31mjava.lang.IllegalArgumentException: Wrong number of fields - only 3 can be accepted\u001b[0m",
      "\u001b[1m\u001b[31m\tat Horse.<init>(#16:1)\u001b[0m",
      "\u001b[1m\u001b[31m\tat .(#37:1)\u001b[0m"
     ]
    }
   ],
   "source": [
    "Horse h10 = new Horse(\"a,0.1233252\");\n",
    "System.out.println(h10);"
   ]
  },
  {
   "cell_type": "code",
   "execution_count": 38,
   "id": "b8453e59-196a-4408-bd39-9eb714969a03",
   "metadata": {},
   "outputs": [
    {
     "ename": "EvalException",
     "evalue": "Wrong number of fields - only 3 can be accepted",
     "output_type": "error",
     "traceback": [
      "\u001b[1m\u001b[31m---------------------------------------------------------------------------\u001b[0m",
      "\u001b[1m\u001b[31mjava.lang.IllegalArgumentException: Wrong number of fields - only 3 can be accepted\u001b[0m",
      "\u001b[1m\u001b[31m\tat Horse.<init>(#16:1)\u001b[0m",
      "\u001b[1m\u001b[31m\tat .(#38:1)\u001b[0m"
     ]
    }
   ],
   "source": [
    "Horse h11 = new Horse(\"a,b,c,0.1233252\");\n",
    "System.out.println(h11);"
   ]
  },
  {
   "cell_type": "code",
   "execution_count": 69,
   "id": "0a050930-e823-4a5a-83ed-75cc846c6311",
   "metadata": {},
   "outputs": [
    {
     "ename": "EvalException",
     "evalue": "Confidence must be within 0-1!",
     "output_type": "error",
     "traceback": [
      "\u001b[1m\u001b[31m---------------------------------------------------------------------------\u001b[0m",
      "\u001b[1m\u001b[31mjava.lang.IllegalArgumentException: Confidence must be within 0-1!\u001b[0m",
      "\u001b[1m\u001b[31m\tat Horse.confidenceInBounds(#16:1)\u001b[0m",
      "\u001b[1m\u001b[31m\tat Horse.<init>(#16:1)\u001b[0m",
      "\u001b[1m\u001b[31m\tat Horse.<init>(#16:1)\u001b[0m",
      "\u001b[1m\u001b[31m\tat .(#39:1)\u001b[0m"
     ]
    }
   ],
   "source": [
    "Horse h12 = new Horse(\"a,b,2.1\");\n",
    "System.out.println(h12);"
   ]
  },
  {
   "cell_type": "code",
   "execution_count": 72,
   "id": "80bbf4ed-b2f6-411c-96e7-5397806de78b",
   "metadata": {},
   "outputs": [
    {
     "name": "stdout",
     "output_type": "stream",
     "text": [
      "a,b,0.1\n"
     ]
    }
   ],
   "source": [
    "Horse h13 = new Horse(new String[] {\"a\",\"b\",\"0.1\"});\n",
    "System.out.println(h13);"
   ]
  },
  {
   "cell_type": "code",
   "execution_count": 73,
   "id": "4dee468d-e430-48d9-af5d-a5eca8dcf66d",
   "metadata": {},
   "outputs": [
    {
     "name": "stdout",
     "output_type": "stream",
     "text": [
      "Enter the name for the horse\n"
     ]
    },
    {
     "name": "stdin",
     "output_type": "stream",
     "text": [
      " PIPPI LONGSTOCKING\n"
     ]
    },
    {
     "name": "stdout",
     "output_type": "stream",
     "text": [
      "Enter a character for the horse\n"
     ]
    },
    {
     "name": "stdin",
     "output_type": "stream",
     "text": [
      " P\n"
     ]
    },
    {
     "name": "stdout",
     "output_type": "stream",
     "text": [
      "Enter a decimal value (0-1) for the confidence for the horse\n"
     ]
    },
    {
     "name": "stdin",
     "output_type": "stream",
     "text": [
      " 0.6\n"
     ]
    },
    {
     "name": "stdout",
     "output_type": "stream",
     "text": [
      "P,PIPPI LONGSTOCKING,0.6\n"
     ]
    }
   ],
   "source": [
    "Horse h14 = HorseManager.inputHorse();\n",
    "System.out.println(h14);"
   ]
  },
  {
   "cell_type": "code",
   "execution_count": 74,
   "id": "2c62848f-abeb-48a1-97fb-2bc7adefc956",
   "metadata": {},
   "outputs": [
    {
     "name": "stdout",
     "output_type": "stream",
     "text": [
      "Enter the name for the horse\n"
     ]
    },
    {
     "name": "stdin",
     "output_type": "stream",
     "text": [
      " PIPPI LONGSTOCKING\n"
     ]
    },
    {
     "name": "stdout",
     "output_type": "stream",
     "text": [
      "Enter a character for the horse\n"
     ]
    },
    {
     "name": "stdin",
     "output_type": "stream",
     "text": [
      " aa\n"
     ]
    },
    {
     "name": "stdout",
     "output_type": "stream",
     "text": [
      "Enter a decimal value (0-1) for the confidence for the horse\n"
     ]
    },
    {
     "name": "stdin",
     "output_type": "stream",
     "text": [
      " 0l3\n"
     ]
    },
    {
     "name": "stdout",
     "output_type": "stream",
     "text": [
      "Please enter valid values for the horse!\n",
      "Enter the name for the horse\n"
     ]
    },
    {
     "name": "stdin",
     "output_type": "stream",
     "text": [
      " PIPPI LONGSTOCKING\n"
     ]
    },
    {
     "name": "stdout",
     "output_type": "stream",
     "text": [
      "Enter a character for the horse\n"
     ]
    },
    {
     "name": "stdin",
     "output_type": "stream",
     "text": [
      " \n"
     ]
    },
    {
     "name": "stdout",
     "output_type": "stream",
     "text": [
      "Enter a decimal value (0-1) for the confidence for the horse\n"
     ]
    },
    {
     "name": "stdin",
     "output_type": "stream",
     "text": [
      " 0.1\n"
     ]
    },
    {
     "name": "stdout",
     "output_type": "stream",
     "text": [
      "Please enter valid values for the horse!\n",
      "Enter the name for the horse\n"
     ]
    },
    {
     "name": "stdin",
     "output_type": "stream",
     "text": [
      " PIPPI LONGSTOCKING\n"
     ]
    },
    {
     "name": "stdout",
     "output_type": "stream",
     "text": [
      "Enter a character for the horse\n"
     ]
    },
    {
     "name": "stdin",
     "output_type": "stream",
     "text": [
      " aa\n"
     ]
    },
    {
     "name": "stdout",
     "output_type": "stream",
     "text": [
      "Enter a decimal value (0-1) for the confidence for the horse\n"
     ]
    },
    {
     "name": "stdin",
     "output_type": "stream",
     "text": [
      " 0.1\n"
     ]
    },
    {
     "name": "stdout",
     "output_type": "stream",
     "text": [
      "Please enter valid values for the horse!\n",
      "Enter the name for the horse\n"
     ]
    },
    {
     "name": "stdin",
     "output_type": "stream",
     "text": [
      " PIPPI LONGSTOCKING\n"
     ]
    },
    {
     "name": "stdout",
     "output_type": "stream",
     "text": [
      "Enter a character for the horse\n"
     ]
    },
    {
     "name": "stdin",
     "output_type": "stream",
     "text": [
      " a\n"
     ]
    },
    {
     "name": "stdout",
     "output_type": "stream",
     "text": [
      "Enter a decimal value (0-1) for the confidence for the horse\n"
     ]
    },
    {
     "name": "stdin",
     "output_type": "stream",
     "text": [
      " 0\n"
     ]
    },
    {
     "name": "stdout",
     "output_type": "stream",
     "text": [
      "a,PIPPI LONGSTOCKING,0.0\n"
     ]
    }
   ],
   "source": [
    "Horse h15 = HorseManager.inputHorse();\n",
    "System.out.println(h15);"
   ]
  },
  {
   "cell_type": "code",
   "execution_count": 75,
   "id": "19f60b3b-76e7-4029-aaa7-773de3259004",
   "metadata": {},
   "outputs": [
    {
     "name": "stdout",
     "output_type": "stream",
     "text": [
      "Enter the name for the horse\n"
     ]
    },
    {
     "name": "stdin",
     "output_type": "stream",
     "text": [
      " PIPPI LONGStOCKING\n"
     ]
    },
    {
     "name": "stdout",
     "output_type": "stream",
     "text": [
      "Enter a character for the horse\n"
     ]
    },
    {
     "name": "stdin",
     "output_type": "stream",
     "text": [
      " a\n"
     ]
    },
    {
     "name": "stdout",
     "output_type": "stream",
     "text": [
      "Enter a decimal value (0-1) for the confidence for the horse\n"
     ]
    },
    {
     "name": "stdin",
     "output_type": "stream",
     "text": [
      " 2.1\n"
     ]
    },
    {
     "name": "stdout",
     "output_type": "stream",
     "text": [
      "Please enter valid values for the horse!\n",
      "Enter the name for the horse\n"
     ]
    },
    {
     "name": "stdin",
     "output_type": "stream",
     "text": [
      " aa\n"
     ]
    },
    {
     "name": "stdout",
     "output_type": "stream",
     "text": [
      "Enter a character for the horse\n"
     ]
    },
    {
     "name": "stdin",
     "output_type": "stream",
     "text": [
      " a\n"
     ]
    },
    {
     "name": "stdout",
     "output_type": "stream",
     "text": [
      "Enter a decimal value (0-1) for the confidence for the horse\n"
     ]
    },
    {
     "name": "stdin",
     "output_type": "stream",
     "text": [
      " -1.9\n"
     ]
    },
    {
     "name": "stdout",
     "output_type": "stream",
     "text": [
      "Please enter valid values for the horse!\n",
      "Enter the name for the horse\n"
     ]
    },
    {
     "name": "stdin",
     "output_type": "stream",
     "text": [
      " test\n"
     ]
    },
    {
     "name": "stdout",
     "output_type": "stream",
     "text": [
      "Enter a character for the horse\n"
     ]
    },
    {
     "name": "stdin",
     "output_type": "stream",
     "text": [
      "  \n"
     ]
    },
    {
     "name": "stdout",
     "output_type": "stream",
     "text": [
      "Enter a decimal value (0-1) for the confidence for the horse\n"
     ]
    },
    {
     "name": "stdin",
     "output_type": "stream",
     "text": [
      " 0.9\n"
     ]
    },
    {
     "name": "stdout",
     "output_type": "stream",
     "text": [
      " ,test,0.9\n"
     ]
    }
   ],
   "source": [
    "Horse h16 = HorseManager.inputHorse();\n",
    "System.out.println(h16);"
   ]
  },
  {
   "cell_type": "markdown",
   "id": "47089733-0cd5-49dd-93bd-ef7c165f69ed",
   "metadata": {},
   "source": [
    "<h3>\n",
    "<a id=\"race\">\n",
    "    Race class\n",
    "</a>\n",
    "</h3>"
   ]
  },
  {
   "cell_type": "code",
   "execution_count": 11,
   "id": "caae95ce-e606-4916-96f1-6527f208a942",
   "metadata": {},
   "outputs": [],
   "source": [
    "import java.util.concurrent.TimeUnit;\n",
    "import java.lang.Math;\n",
    "\n",
    "/**\n",
    " * A three-horse race, each horse running in its own lane\n",
    " * for a given distance\n",
    " * \n",
    " * @Author: Marlon Pires\n",
    " * @version 0.3\n",
    " */\n",
    "\n",
    "public class Race\n",
    "{\n",
    "    private int raceLength;\n",
    "    private Horse lane1Horse;\n",
    "    private Horse lane2Horse;\n",
    "    private Horse lane3Horse;\n",
    "\n",
    "    /**\n",
    "     * Constructor for objects of class Race\n",
    "     * Initially there are no horses in the lanes\n",
    "     * \n",
    "     * @param distance the length of the racetrack (in metres/yards...)\n",
    "     */\n",
    "    public Race(int distance)\n",
    "    {\n",
    "        // initialise instance variables\n",
    "        raceLength = distance;\n",
    "        /* REDUNDANT DUE TO HORSEHANDLER ARRAYLIST\n",
    "        lane1Horse = null;\n",
    "        lane2Horse = null;\n",
    "        lane3Horse = null;\n",
    "        */\n",
    "    }\n",
    "\n",
    "\n",
    "    \n",
    "    /** UNUSED METHOD IN CODE - REPLACED BY SETHORSES\n",
    "     * Adds a horse to the race in a given lane\n",
    "     * \n",
    "     * @param theHorse the horse to be added to the race\n",
    "     * @param laneNumber the lane that the horse will be added to\n",
    "     */\n",
    "    public void addHorse(Horse theHorse, int laneNumber)\n",
    "    {\n",
    "        if (laneNumber == 1)\n",
    "        {\n",
    "            lane1Horse = theHorse;\n",
    "        }\n",
    "        else if (laneNumber == 2)\n",
    "        {\n",
    "            lane2Horse = theHorse;\n",
    "        }\n",
    "        else if (laneNumber == 3)\n",
    "        {\n",
    "            lane3Horse = theHorse;\n",
    "        }\n",
    "        else\n",
    "        {\n",
    "            System.out.println(\"Cannot add horse to lane \" + laneNumber + \" because there is no such lane\");\n",
    "        }\n",
    "    }\n",
    "    \n",
    "    /**\n",
    "     * Start the race\n",
    "     * The horse are brought to the start and\n",
    "     * then repeatedly moved forward until the \n",
    "     * race is finished\n",
    "     */\n",
    "    public void startRace()\n",
    "    {\n",
    "        String userChoice = \"\";\n",
    "        boolean continueLoop = true;\n",
    "        while (continueLoop) {\n",
    "            //declare a local variable to tell us when the race is finished\n",
    "            boolean finished = false;\n",
    "            Horse winner;\n",
    "            //Menu allowing user to add horses, or begin race\n",
    "            menu();\n",
    "            \n",
    "            setHorses();\n",
    "            \n",
    "            //reset all the lanes (all horses not fallen and back to 0). \n",
    "            HorseManager.horsesBackToStart();\n",
    "                          \n",
    "            while ((!finished) && (!allFallen()))\n",
    "            {\n",
    "                //move each horse\n",
    "                for (Horse h : HorseManager.getHorses()) {\n",
    "                    moveHorse(h);\n",
    "                }\n",
    "                            \n",
    "                //print the race positions\n",
    "                printRace();\n",
    "                \n",
    "                //if any of the three horses has won the race is finished\n",
    "                if (raceWonByHorse())\n",
    "                {\n",
    "                    finished = true;\n",
    "                }\n",
    "               \n",
    "                //wait for 100 milliseconds\n",
    "                try{ \n",
    "                    TimeUnit.MILLISECONDS.sleep(100);\n",
    "                }catch(Exception e){}\n",
    "            }\n",
    "            if (raceWonByHorse()) {\n",
    "                System.out.println(\"And the winner is... \" + getWinner().getName());\n",
    "            }\n",
    "            else {\n",
    "                System.out.println(\"No horse won!\");\n",
    "            }\n",
    "            \n",
    "            userChoice = Helper.input(\"Start another race? (y/n)\");\n",
    "            if (userChoice.equals(\"n\")) {\n",
    "                continueLoop = false;\n",
    "            }\n",
    "        }\n",
    "        \n",
    "    }\n",
    "    \n",
    "    /**\n",
    "     * Randomly make a horse move forward or fall depending\n",
    "     * on its confidence rating\n",
    "     * A fallen horse cannot move\n",
    "     * \n",
    "     * @param theHorse the horse to be moved\n",
    "     */\n",
    "    private void moveHorse(Horse theHorse)\n",
    "    {\n",
    "        //if the horse has fallen it cannot move, \n",
    "        //so only run if it has not fallen\n",
    "        if  (!theHorse.hasFallen())\n",
    "        {\n",
    "            //the probability that the horse will move forward depends on the confidence;\n",
    "            if (Math.random() < theHorse.getConfidence())\n",
    "            {\n",
    "               theHorse.moveForward();\n",
    "            }\n",
    "            \n",
    "            //the probability that the horse will fall is very small (max is 0.1)\n",
    "            //but will also will depends exponentially on confidence \n",
    "            //so if you double the confidence, the probability that it will fall is *2\n",
    "            if (Math.random() < (0.1*theHorse.getConfidence()*theHorse.getConfidence()))\n",
    "            {\n",
    "                theHorse.fall();\n",
    "            }\n",
    "        }\n",
    "    }\n",
    "        \n",
    "    /** \n",
    "     * Determines if a horse has won the race\n",
    "     *\n",
    "     * @param theHorse The horse we are testing\n",
    "     * @return true if the horse has won, false otherwise.\n",
    "     */\n",
    "    private boolean raceWonByHorse()\n",
    "    {\n",
    "        for (Horse h : HorseManager.getHorses()) {\n",
    "            if (h.getDistanceTravelled() >= raceLength)\n",
    "            {\n",
    "                return true;\n",
    "            }\n",
    "        }\n",
    "        return false;\n",
    "    }\n",
    "\n",
    "    private Horse getWinner() {\n",
    "        for (Horse h : HorseManager.getHorses()) {\n",
    "            if (h.getDistanceTravelled() >= raceLength) {\n",
    "                return h;\n",
    "            }\n",
    "        }\n",
    "        return null;\n",
    "    }\n",
    "\n",
    "    private boolean allFallen() {\n",
    "        boolean allHorsesFallen = true;\n",
    "        for (Horse h : HorseManager.getHorses()) {\n",
    "            if (!h.hasFallen()) {\n",
    "                allHorsesFallen = false;\n",
    "            }\n",
    "        }\n",
    "        return allHorsesFallen;\n",
    "    }\n",
    "    \n",
    "    /***\n",
    "     * Print the race on the terminal\n",
    "     */\n",
    "    private void printRace()\n",
    "    {\n",
    "        System.out.print('\\u000C');  //clear the terminal window\n",
    "        \n",
    "        multiplePrint('=',raceLength+3); //top edge of track\n",
    "        System.out.println();\n",
    "\n",
    "        for (Horse h : HorseManager.getHorses()) {\n",
    "            printLane(h);\n",
    "            System.out.println();\n",
    "        }\n",
    "        \n",
    "        multiplePrint('=',raceLength+3); //bottom edge of track\n",
    "        System.out.println();    \n",
    "    }\n",
    "    \n",
    "    /**\n",
    "     * print a horse's lane during the race\n",
    "     * for example\n",
    "     * |           X                      |\n",
    "     * to show how far the horse has run\n",
    "     */\n",
    "    private void printLane(Horse theHorse)\n",
    "    {\n",
    "        //calculate how many spaces are needed before\n",
    "        //and after the horse\n",
    "        int spacesBefore = theHorse.getDistanceTravelled();\n",
    "        int spacesAfter = raceLength - theHorse.getDistanceTravelled();\n",
    "        \n",
    "        //print a | for the beginning of the lane\n",
    "        System.out.print('|');\n",
    "        \n",
    "        //print the spaces before the horse\n",
    "        multiplePrint(' ',spacesBefore);\n",
    "        \n",
    "        //if the horse has fallen then print dead\n",
    "        //else print the horse's symbol\n",
    "        if(theHorse.hasFallen())\n",
    "        {\n",
    "            System.out.print('\\u2573');\n",
    "        }\n",
    "        else\n",
    "        {\n",
    "            System.out.print(theHorse.getSymbol());\n",
    "        }\n",
    "        \n",
    "        //print the spaces after the horse\n",
    "        multiplePrint(' ',spacesAfter);\n",
    "        \n",
    "        //print the | for the end of the track\n",
    "        System.out.print('|');\n",
    "    }\n",
    "        \n",
    "    \n",
    "    /***\n",
    "     * print a character a given number of times.\n",
    "     * e.g. printmany('x',5) will print: xxxxx\n",
    "     * \n",
    "     * @param aChar the character to Print\n",
    "     */\n",
    "    private void multiplePrint(char aChar, int times)\n",
    "    {\n",
    "        int i = 0;\n",
    "        while (i < times)\n",
    "        {\n",
    "            System.out.print(aChar);\n",
    "            i = i + 1;\n",
    "        }\n",
    "    }\n",
    "\n",
    "    private Horse pickHorseFromFile() throws IOException {\n",
    "        Horse[] availableHorses;\n",
    "        try {\n",
    "            availableHorses = FileHandler.readHorses();\n",
    "        }\n",
    "        catch (IOException e) {\n",
    "            System.out.println(\"File handling error at pickHorseFromfile\");\n",
    "            throw e;\n",
    "        }\n",
    "\n",
    "        int choice = -1;\n",
    "        int numOfHorses = availableHorses.length;\n",
    "\n",
    "        if (numOfHorses == 0) {\n",
    "            return new Horse(\"N,NO_HORSES_AVAILABLE,0\");\n",
    "        }\n",
    "\n",
    "        while (choice < 0 || choice >= numOfHorses) {\n",
    "            System.out.println(\"Pick a horse from the list!\");\n",
    "            for (int i = 0; i < availableHorses.length; i++) {\n",
    "                System.out.println((i + 1) + \") \" + availableHorses[i].getName());\n",
    "            }\n",
    "            choice = Helper.inputInt(\"Pick a number\") - 1;\n",
    "            if (choice < 0 || choice >= numOfHorses) {\n",
    "                System.out.println(\"Pick a number from the list!\");\n",
    "            }\n",
    "        }\n",
    "        return availableHorses[choice];\n",
    "    }\n",
    "\n",
    "    public void setHorses() {\n",
    "        final int MAX_HORSES = 8;\n",
    "        final int MIN_HORSES = 2;\n",
    "        HorseManager.clearHorses();\n",
    "        int numOfHorses = Helper.inputInt(\"Enter the number of horses you want\");\n",
    "        while (numOfHorses < 2 || numOfHorses > MAX_HORSES) {\n",
    "            numOfHorses = Helper.inputInt(\"Please enter a number of horses between \" + 2 + \" and \" + MAX_HORSES + \"!\");\n",
    "        }\n",
    "\n",
    "        for (int i = 0; i < numOfHorses; i++) {\n",
    "            try {\n",
    "                HorseManager.appendHorse(pickHorseFromFile());\n",
    "            }\n",
    "            catch (IOException e) {\n",
    "                System.out.println(\"Error when accessing file!\");\n",
    "            }\n",
    "        }\n",
    "    }\n",
    "\n",
    "    private void menu() {\n",
    "        int menuChoice = 0;\n",
    "\n",
    "        while (menuChoice != 2) {\n",
    "            System.out.println(\"1) Add new horse\");\n",
    "            System.out.println(\"2) Start race\");\n",
    "            menuChoice = Helper.inputInt(\"Pick a menu option\");\n",
    "            \n",
    "            if (menuChoice == 1) {\n",
    "                Horse tempHorse = HorseManager.inputHorse();\n",
    "                try {\n",
    "                    FileHandler.appendHorse(tempHorse);\n",
    "                }\n",
    "                catch (IOException e) {\n",
    "                    System.out.println(\"Error when writing horse, please try again\");\n",
    "                }\n",
    "            }\n",
    "        }\n",
    "    }\n",
    "}\n"
   ]
  },
  {
   "cell_type": "code",
   "execution_count": 12,
   "id": "e565cef6-4e81-4db6-bc74-1a5b96a151e7",
   "metadata": {},
   "outputs": [
    {
     "name": "stdout",
     "output_type": "stream",
     "text": [
      "1) Add new horse\n",
      "2) Start race\n",
      "Pick a menu option\n"
     ]
    },
    {
     "name": "stdin",
     "output_type": "stream",
     "text": [
      " 2\n"
     ]
    },
    {
     "name": "stdout",
     "output_type": "stream",
     "text": [
      "Enter the number of horses you want\n"
     ]
    },
    {
     "name": "stdin",
     "output_type": "stream",
     "text": [
      " 1\n"
     ]
    },
    {
     "name": "stdout",
     "output_type": "stream",
     "text": [
      "Please enter a number of horses between 2 and 8!\n"
     ]
    },
    {
     "name": "stdin",
     "output_type": "stream",
     "text": [
      " 2\n"
     ]
    },
    {
     "name": "stdout",
     "output_type": "stream",
     "text": [
      "Pick a horse from the list!\n",
      "1)  Horsey\n",
      "2) Horsey\n",
      "3) Jeremy\n",
      "4) PIPPI LONGSTOCKING\n",
      "5) KOKOMO\n",
      "6) EL JEFE\n",
      "7) What\n",
      "Pick a number\n"
     ]
    },
    {
     "name": "stdin",
     "output_type": "stream",
     "text": [
      " 1\n"
     ]
    },
    {
     "name": "stdout",
     "output_type": "stream",
     "text": [
      "Pick a horse from the list!\n",
      "1)  Horsey\n",
      "2) Horsey\n",
      "3) Jeremy\n",
      "4) PIPPI LONGSTOCKING\n",
      "5) KOKOMO\n",
      "6) EL JEFE\n",
      "7) What\n",
      "Pick a number\n"
     ]
    },
    {
     "name": "stdin",
     "output_type": "stream",
     "text": [
      " 2\n"
     ]
    },
    {
     "name": "stdout",
     "output_type": "stream",
     "text": [
      "\f",
      "=======================\n",
      "|H                    |\n",
      "|H                    |\n",
      "=======================\n",
      "\f",
      "=======================\n",
      "| H                   |\n",
      "| H                   |\n",
      "=======================\n",
      "\f",
      "=======================\n",
      "|  H                  |\n",
      "|  H                  |\n",
      "=======================\n",
      "\f",
      "=======================\n",
      "|   H                 |\n",
      "|   H                 |\n",
      "=======================\n",
      "\f",
      "=======================\n",
      "|    H                |\n",
      "|    H                |\n",
      "=======================\n",
      "\f",
      "=======================\n",
      "|    H                |\n",
      "|     H               |\n",
      "=======================\n",
      "\f",
      "=======================\n",
      "|    H                |\n",
      "|      H              |\n",
      "=======================\n",
      "\f",
      "=======================\n",
      "|     ╳               |\n",
      "|      H              |\n",
      "=======================\n",
      "\f",
      "=======================\n",
      "|     ╳               |\n",
      "|      H              |\n",
      "=======================\n",
      "\f",
      "=======================\n",
      "|     ╳               |\n",
      "|      H              |\n",
      "=======================\n",
      "\f",
      "=======================\n",
      "|     ╳               |\n",
      "|       H             |\n",
      "=======================\n",
      "\f",
      "=======================\n",
      "|     ╳               |\n",
      "|        H            |\n",
      "=======================\n",
      "\f",
      "=======================\n",
      "|     ╳               |\n",
      "|         H           |\n",
      "=======================\n",
      "\f",
      "=======================\n",
      "|     ╳               |\n",
      "|         H           |\n",
      "=======================\n",
      "\f",
      "=======================\n",
      "|     ╳               |\n",
      "|          H          |\n",
      "=======================\n",
      "\f",
      "=======================\n",
      "|     ╳               |\n",
      "|          H          |\n",
      "=======================\n",
      "\f",
      "=======================\n",
      "|     ╳               |\n",
      "|          H          |\n",
      "=======================\n",
      "\f",
      "=======================\n",
      "|     ╳               |\n",
      "|          H          |\n",
      "=======================\n",
      "\f",
      "=======================\n",
      "|     ╳               |\n",
      "|          H          |\n",
      "=======================\n",
      "\f",
      "=======================\n",
      "|     ╳               |\n",
      "|          H          |\n",
      "=======================\n",
      "\f",
      "=======================\n",
      "|     ╳               |\n",
      "|           H         |\n",
      "=======================\n",
      "\f",
      "=======================\n",
      "|     ╳               |\n",
      "|            H        |\n",
      "=======================\n",
      "\f",
      "=======================\n",
      "|     ╳               |\n",
      "|             H       |\n",
      "=======================\n",
      "\f",
      "=======================\n",
      "|     ╳               |\n",
      "|             H       |\n",
      "=======================\n",
      "\f",
      "=======================\n",
      "|     ╳               |\n",
      "|             H       |\n",
      "=======================\n",
      "\f",
      "=======================\n",
      "|     ╳               |\n",
      "|              H      |\n",
      "=======================\n",
      "\f",
      "=======================\n",
      "|     ╳               |\n",
      "|              H      |\n",
      "=======================\n",
      "\f",
      "=======================\n",
      "|     ╳               |\n",
      "|              H      |\n",
      "=======================\n",
      "\f",
      "=======================\n",
      "|     ╳               |\n",
      "|              H      |\n",
      "=======================\n",
      "\f",
      "=======================\n",
      "|     ╳               |\n",
      "|               H     |\n",
      "=======================\n",
      "\f",
      "=======================\n",
      "|     ╳               |\n",
      "|                H    |\n",
      "=======================\n",
      "\f",
      "=======================\n",
      "|     ╳               |\n",
      "|                 H   |\n",
      "=======================\n",
      "\f",
      "=======================\n",
      "|     ╳               |\n",
      "|                 H   |\n",
      "=======================\n",
      "\f",
      "=======================\n",
      "|     ╳               |\n",
      "|                  H  |\n",
      "=======================\n",
      "\f",
      "=======================\n",
      "|     ╳               |\n",
      "|                  H  |\n",
      "=======================\n",
      "\f",
      "=======================\n",
      "|     ╳               |\n",
      "|                   H |\n",
      "=======================\n",
      "\f",
      "=======================\n",
      "|     ╳               |\n",
      "|                    H|\n",
      "=======================\n",
      "And the winner is... Horsey\n",
      "Start another race? (y/n)\n"
     ]
    },
    {
     "name": "stdin",
     "output_type": "stream",
     "text": [
      " n\n"
     ]
    }
   ],
   "source": [
    "Race r = new Race(20);\n",
    "r.startRace();"
   ]
  },
  {
   "cell_type": "code",
   "execution_count": 118,
   "id": "199bb0aa-d6c2-4cc3-9da5-bf4bd9bedd00",
   "metadata": {},
   "outputs": [],
   "source": [
    "HorseManager.clearHorses();"
   ]
  },
  {
   "cell_type": "code",
   "execution_count": 119,
   "id": "44ebe361-4d16-40d8-ae57-9b9099e286c9",
   "metadata": {},
   "outputs": [
    {
     "name": "stdout",
     "output_type": "stream",
     "text": [
      "Enter the number of horses you want\n"
     ]
    },
    {
     "name": "stdin",
     "output_type": "stream",
     "text": [
      " 3\n"
     ]
    },
    {
     "name": "stdout",
     "output_type": "stream",
     "text": [
      "[]\n",
      "Pick a horse from the list!\n",
      "1)  Horsey\n",
      "2) Horsey\n",
      "3) Jeremy\n",
      "4) PIPPI LONGSTOCKING\n",
      "5) KOKOMO\n",
      "6) EL JEFE\n",
      "Pick a number\n"
     ]
    },
    {
     "name": "stdin",
     "output_type": "stream",
     "text": [
      " 4\n"
     ]
    },
    {
     "name": "stdout",
     "output_type": "stream",
     "text": [
      "[P,PIPPI LONGSTOCKING,0.6]\n",
      "Pick a horse from the list!\n",
      "1)  Horsey\n",
      "2) Horsey\n",
      "3) Jeremy\n",
      "4) PIPPI LONGSTOCKING\n",
      "5) KOKOMO\n",
      "6) EL JEFE\n",
      "Pick a number\n"
     ]
    },
    {
     "name": "stdin",
     "output_type": "stream",
     "text": [
      " 5\n"
     ]
    },
    {
     "name": "stdout",
     "output_type": "stream",
     "text": [
      "[P,PIPPI LONGSTOCKING,0.6, K,KOKOMO,0.6]\n",
      "Pick a horse from the list!\n",
      "1)  Horsey\n",
      "2) Horsey\n",
      "3) Jeremy\n",
      "4) PIPPI LONGSTOCKING\n",
      "5) KOKOMO\n",
      "6) EL JEFE\n",
      "Pick a number\n"
     ]
    },
    {
     "name": "stdin",
     "output_type": "stream",
     "text": [
      " 6\n"
     ]
    },
    {
     "name": "stdout",
     "output_type": "stream",
     "text": [
      "[P,PIPPI LONGSTOCKING,0.6, K,KOKOMO,0.6, E,EL JEFE,0.4]\n"
     ]
    }
   ],
   "source": [
    "Race r = new Race(10);\n",
    "r.setHorses();\n",
    "System.out.println(Arrays.toString(HorseManager.getHorses()));"
   ]
  },
  {
   "cell_type": "code",
   "execution_count": 103,
   "id": "f3bdbe93-6e6e-47c3-8a76-dbb1f46c0872",
   "metadata": {},
   "outputs": [
    {
     "name": "stdout",
     "output_type": "stream",
     "text": [
      "Pick a horse from the list!\n",
      "1)  Horsey\n",
      "2) Horsey\n",
      "3) Jeremy\n",
      "4) PIPPI LONGSTOCKING\n",
      "5) KOKOMO\n",
      "6) EL JEFE\n",
      "Pick a number\n"
     ]
    },
    {
     "name": "stdin",
     "output_type": "stream",
     "text": [
      " 1\n"
     ]
    },
    {
     "name": "stdout",
     "output_type": "stream",
     "text": [
      "H, Horsey,0.5\n"
     ]
    }
   ],
   "source": [
    "Race r = new Race(10);\n",
    "System.out.println(r.pickHorseFromFile());"
   ]
  },
  {
   "cell_type": "markdown",
   "id": "9766f77e-bee3-49be-9755-cb63cbde59bc",
   "metadata": {},
   "source": [
    "<h3>\n",
    "<a id=\"fileHandler\">\n",
    "    FileHandler class\n",
    "</a>\n",
    "</h3>"
   ]
  },
  {
   "cell_type": "code",
   "execution_count": 5,
   "id": "9f568e69-17da-43dc-a0a6-7d6cb48a2db1",
   "metadata": {},
   "outputs": [],
   "source": [
    "final class FileHandler {\n",
    "    /* ********************************** **\n",
    "    * This code is from my miniproject \n",
    "    * for procedural programming\n",
    "    * AUTHOR: Marlon Pires\n",
    "    * DATE: 10/12/2024\n",
    "    * DESCRIPTION: \n",
    "    * This code is a class used for\n",
    "    * all file handling.\n",
    "    ** ********************************** */\n",
    "    \n",
    "    // File locations and directory names\n",
    "    final static String CurDirectory = System.getProperty(\"user.dir\") + \"/data/\";\n",
    "    final static String HorseFile = CurDirectory + \"horses.csv\";\n",
    "\n",
    "\n",
    "    \n",
    "    // Tests whether or not a file exists\n",
    "    //\n",
    "    public static boolean checkFileExists(String fileName)\n",
    "    {\n",
    "        File f = new File(fileName);\n",
    "        return f.exists();\n",
    "    } // END checkFileExists\n",
    "\n",
    "    \n",
    "    // Writes the text to a file with the name fileName. Must include extension\n",
    "    //\n",
    "    public static void writeLineToFile(String fileName, String text) throws IOException\n",
    "    {\n",
    "        PrintWriter outputStream = new PrintWriter(new FileWriter(fileName));\n",
    "        outputStream.println(text);\n",
    "        outputStream.close();\n",
    "        return;\n",
    "    } // END writeToFile\n",
    "\n",
    "    \n",
    "    // Writes the text to a file with the name fileName. Must include extension\n",
    "    //\n",
    "    public static void writeTextToFile(String fileName, String[] text) throws IOException\n",
    "    {\n",
    "        PrintWriter outputStream = new PrintWriter(new FileWriter(fileName));\n",
    "        int textLines = text.length;\n",
    "        String fileInput = \"\";\n",
    "    \n",
    "        if (textLines >= 1)\n",
    "        {\n",
    "            for (int i = 0; i < textLines - 1; i++)\n",
    "            {\n",
    "                fileInput += text[i];\n",
    "                fileInput += \"\\n\";\n",
    "            }\n",
    "        \n",
    "            fileInput += text[textLines - 1];\n",
    "            outputStream.println(fileInput);\n",
    "        }\n",
    "        else\n",
    "        {\n",
    "            outputStream.print(fileInput);\n",
    "        }\n",
    "        \n",
    "        outputStream.close();\n",
    "        \n",
    "        return;\n",
    "    } // END writeTextToFile\n",
    "\n",
    "    \n",
    "    // Returns the number of lines in a file, returning -1 if file does not exist\n",
    "    //\n",
    "    public static int getFileLines(String fileName) throws IOException\n",
    "    {\n",
    "        int count;\n",
    "        if (checkFileExists(fileName))\n",
    "        {\n",
    "            BufferedReader inputStream = new BufferedReader(new FileReader(fileName));\n",
    "            count = 0;\n",
    "            \n",
    "            while (inputStream.readLine() != null)\n",
    "            {\n",
    "                count++;\n",
    "            }\n",
    "            \n",
    "            inputStream.close();\n",
    "        }\n",
    "        else\n",
    "        {\n",
    "            count = -1;\n",
    "        }\n",
    "        \n",
    "        return count;\n",
    "    } // END getFileLines\n",
    "    \n",
    "    // Reads from a text file, returning an array of each line. Returns an empty array if the file does not exist\n",
    "    //\n",
    "    public static String[] readFromFile(String fileName) throws IOException\n",
    "    {\n",
    "        String[] fileArray = {};\n",
    "        \n",
    "        if (checkFileExists(fileName))\n",
    "        {\n",
    "            BufferedReader inputStream = new BufferedReader(new FileReader(fileName));\n",
    "            String currentLine = inputStream.readLine();\n",
    "            int currentIndex = 0;\n",
    "    \n",
    "            fileArray = new String[getFileLines(fileName)];\n",
    "            \n",
    "            while (currentLine != null)\n",
    "            {\n",
    "                fileArray[currentIndex] = currentLine;\n",
    "                currentLine = inputStream.readLine();\n",
    "                currentIndex++;\n",
    "            }\n",
    "            inputStream.close();\n",
    "        }\n",
    "    \n",
    "        return fileArray;\n",
    "    } // END readFromFile\n",
    "\n",
    "\n",
    "    // Adds a string to the end of a file on a new line\n",
    "    //\n",
    "    public static void appendLineToFile(String fileName, String text) throws IOException\n",
    "    {\n",
    "        String[] fileText;\n",
    "        String[] textToWrite;\n",
    "        int fileLines = getFileLines(fileName);\n",
    "    \n",
    "        if (fileLines > 0)\n",
    "        {\n",
    "            textToWrite = new String[fileLines + 1];\n",
    "            fileText = readFromFile(fileName);\n",
    "    \n",
    "            for (int i = 0; i < fileLines; i++)\n",
    "            {\n",
    "                textToWrite[i] = fileText[i];\n",
    "            }\n",
    "    \n",
    "            textToWrite[fileLines] = text;\n",
    "            writeTextToFile(fileName, textToWrite);\n",
    "        }\n",
    "        else\n",
    "        {\n",
    "            writeLineToFile(fileName, text);\n",
    "        }\n",
    "        \n",
    "        return;\n",
    "    } // END appendLineToFile\n",
    "\n",
    "    \n",
    "    // Writes the contents of the originalFile to the newFile\n",
    "    //\n",
    "    public static void copyFile(String originalFile, String newFile) throws IOException\n",
    "    {\n",
    "        String[] file = readFromFile(originalFile);\n",
    "        writeTextToFile(newFile, file);\n",
    "        \n",
    "        return;\n",
    "    } // END copyFile\n",
    "\n",
    "    \n",
    "    // Removes a line from a file by specifying which line number to remove. First line is line 0\n",
    "    // Does not remove a line if the line number does not exist\n",
    "    //\n",
    "    public static void removeLineFromFile(String fileName, int lineNumber) throws IOException\n",
    "    {\n",
    "        String[] curFile = readFromFile(fileName);\n",
    "        int fileLines = curFile.length;\n",
    "        String[] newFile = new String[0];\n",
    "    \n",
    "        if (fileLines > 0) // incase file is empty\n",
    "        {\n",
    "             newFile = new String[fileLines - 1];\n",
    "        }\n",
    "            \n",
    "        if ((lineNumber >= 0) && (lineNumber < fileLines))\n",
    "        {\n",
    "            for (int i = 0; i < lineNumber; i++)\n",
    "            {\n",
    "                newFile[i] = curFile[i];\n",
    "                \n",
    "            }\n",
    "    \n",
    "            for (int i = lineNumber + 1; i < fileLines; i++)\n",
    "            {\n",
    "                newFile[i - 1] = curFile[i];\n",
    "            }\n",
    "    \n",
    "            writeTextToFile(fileName, newFile);\n",
    "        }\n",
    "            \n",
    "        else\n",
    "        {\n",
    "            System.out.println(\"Invalid line number!\");\n",
    "        }\n",
    "        \n",
    "        return;\n",
    "    } // END removeLineFromFile\n",
    "\n",
    "    /* *** FILE HANDILNG FOR DATA *** */\n",
    "\n",
    "    public static void appendHorse(Horse h) throws IOException { \n",
    "        appendLineToFile(HorseFile, h.toString());\n",
    "    }\n",
    "\n",
    "    public static Horse[] readHorses() throws IOException {\n",
    "        String[] strHorseArr = readFromFile(HorseFile);\n",
    "        Horse[] horses = new Horse[strHorseArr.length];\n",
    "        for (int i = 0; i < horses.length; i++) {\n",
    "            horses[i] = new Horse(strHorseArr[i]);\n",
    "        }\n",
    "        return horses;\n",
    "    }\n",
    "\n",
    "}"
   ]
  },
  {
   "cell_type": "markdown",
   "id": "cd255376-af08-4375-b68f-49d91e4dce0e",
   "metadata": {},
   "source": [
    "<h4> Testing </h4>"
   ]
  },
  {
   "cell_type": "code",
   "execution_count": 55,
   "id": "641d7e80-4ec2-4d05-94ca-16eff252e270",
   "metadata": {},
   "outputs": [],
   "source": [
    "Horse h1 = new Horse(\"J,Jeremy,0.2\");\n",
    "FileHandler.appendHorse(h1);"
   ]
  },
  {
   "cell_type": "code",
   "execution_count": 56,
   "id": "61630f42-781a-42c3-83f6-8d446d33408c",
   "metadata": {},
   "outputs": [
    {
     "name": "stdout",
     "output_type": "stream",
     "text": [
      "H, Horsey,0.5\n",
      "H,Horsey,0.5\n",
      "J,Jeremy,0.2\n"
     ]
    }
   ],
   "source": [
    "Horse[] h2 = FileHandler.readHorses();\n",
    "for (Horse h : h2) {\n",
    "    System.out.println(h);\n",
    "}"
   ]
  },
  {
   "cell_type": "code",
   "execution_count": 22,
   "id": "f78870d3-113d-4ac4-8a5e-9fe11cae483d",
   "metadata": {},
   "outputs": [
    {
     "name": "stdout",
     "output_type": "stream",
     "text": [
      "/home/jovyan/teaching_material/ECS414U - Object Orientated Programming hi/coursework/data/\n"
     ]
    }
   ],
   "source": [
    "System.out.println(FileHandler.curDirectory);"
   ]
  },
  {
   "cell_type": "code",
   "execution_count": 6,
   "id": "571eb5e6-e14d-4945-a697-1ede10004147",
   "metadata": {},
   "outputs": [],
   "source": [
    "import java.util.Scanner;\n",
    "\n",
    "final class Helper {\n",
    "    public static String input(String message) {\n",
    "        Scanner s = new Scanner(System.in);\n",
    "        System.out.println(message);\n",
    "        return s.nextLine();\n",
    "    }\n",
    "\n",
    "    public static boolean isDigit(char c) {\n",
    "        return (c >= '0' && c <= '9');\n",
    "    }\n",
    "\n",
    "    public static boolean stringIsInt(String s) {\n",
    "        boolean isInt = (s.length() > 0);\n",
    "        for (int i = 0; i < s.length(); i++) {\n",
    "            if (!isDigit(s.charAt(i))) {\n",
    "                isInt = false;\n",
    "            }\n",
    "        }\n",
    "        return isInt;\n",
    "    }\n",
    "\n",
    "    public static int inputInt(String message) {\n",
    "        String tempInput = input(message);\n",
    "        while (!stringIsInt(tempInput)) {\n",
    "            tempInput = input(\"Input must be an integer!\");\n",
    "        }\n",
    "        return Integer.parseInt(tempInput);\n",
    "    }\n",
    "}"
   ]
  },
  {
   "cell_type": "markdown",
   "id": "e406b728-ba6d-4d3b-a0f0-96ca32df51a5",
   "metadata": {},
   "source": [
    "<h4> Testing </h4>"
   ]
  },
  {
   "cell_type": "code",
   "execution_count": 61,
   "id": "db64c13a-90e5-4b2d-bb9e-90269b98eadc",
   "metadata": {},
   "outputs": [
    {
     "name": "stdout",
     "output_type": "stream",
     "text": [
      "Hello\n"
     ]
    },
    {
     "name": "stdin",
     "output_type": "stream",
     "text": [
      " a\n"
     ]
    },
    {
     "name": "stdout",
     "output_type": "stream",
     "text": [
      "Input must be an integer!\n"
     ]
    },
    {
     "name": "stdin",
     "output_type": "stream",
     "text": [
      " \n"
     ]
    },
    {
     "name": "stdout",
     "output_type": "stream",
     "text": [
      "Input must be an integer!\n"
     ]
    },
    {
     "name": "stdin",
     "output_type": "stream",
     "text": [
      " --3\n"
     ]
    },
    {
     "name": "stdout",
     "output_type": "stream",
     "text": [
      "Input must be an integer!\n"
     ]
    },
    {
     "name": "stdin",
     "output_type": "stream",
     "text": [
      " 3\n"
     ]
    },
    {
     "data": {
      "text/plain": [
       "3"
      ]
     },
     "execution_count": 61,
     "metadata": {},
     "output_type": "execute_result"
    }
   ],
   "source": [
    "Helper.inputInt(\"Hello\");"
   ]
  }
 ],
 "metadata": {
  "kernelspec": {
   "display_name": "Java",
   "language": "java",
   "name": "java"
  },
  "language_info": {
   "codemirror_mode": "java",
   "file_extension": ".jshell",
   "mimetype": "text/x-java-source",
   "name": "Java",
   "pygments_lexer": "java",
   "version": "11.0.8+10-LTS"
  }
 },
 "nbformat": 4,
 "nbformat_minor": 5
}
